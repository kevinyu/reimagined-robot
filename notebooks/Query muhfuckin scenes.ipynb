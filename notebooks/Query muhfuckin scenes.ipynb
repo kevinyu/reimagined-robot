{
 "cells": [
  {
   "cell_type": "code",
   "execution_count": 10,
   "metadata": {
    "collapsed": false
   },
   "outputs": [
    {
     "name": "stdout",
     "output_type": "stream",
     "text": [
      "The autoreload extension is already loaded. To reload it, use:\n",
      "  %reload_ext autoreload\n"
     ]
    }
   ],
   "source": [
    "import matplotlib.pyplot as plt\n",
    "import numpy as np\n",
    "\n",
    "import config\n",
    "from tasks.mnist.generate_scenes import generate_scene\n",
    "from tasks.mnist.query_scene import directions, query\n",
    "\n",
    "%load_ext autoreload\n",
    "%autoreload 2"
   ]
  },
  {
   "cell_type": "code",
   "execution_count": 6,
   "metadata": {
    "collapsed": false
   },
   "outputs": [],
   "source": [
    "scene = generate_scene((200, 200))\n",
    "if config.NOISE_FRAGMENTS:\n",
    "    scene.add_fragment_noise(config.NOISE_FRAGMENTS, config.MAX_NOISE_SIZE)"
   ]
  },
  {
   "cell_type": "code",
   "execution_count": 25,
   "metadata": {
    "collapsed": false
   },
   "outputs": [
    {
     "data": {
      "image/png": "[encoded data removed]",
      "text/plain": [
       "<matplotlib.figure.Figure at 0x111a01990>"
      ]
     },
     "metadata": {},
     "output_type": "display_data"
    },
    {
     "name": "stdout",
     "output_type": "stream",
     "text": [
      "whats below-right a yellow 1\n",
      "nothing\n",
      "\n",
      "whats right a yellow 1\n",
      "its a yellow 1\n",
      "\n",
      "whats below-left a green 8\n",
      "its a yellow 1\n",
      "\n",
      "whats below-right a yellow 1\n",
      "nothing\n",
      "\n",
      "whats left a red 6\n",
      "nothing\n",
      "\n",
      "whats above-left a red 6\n",
      "nothing\n",
      "\n",
      "whats above-left a yellow 1\n",
      "its a blue 1\n",
      "\n",
      "whats above a green 8\n",
      "its a green 5\n",
      "\n",
      "whats right a yellow 1\n",
      "nothing\n",
      "\n",
      "whats right a blue 1\n",
      "its a green 8\n",
      "\n"
     ]
    }
   ],
   "source": [
    "plt.imshow(scene.img)\n",
    "plt.show()\n",
    "for _ in range(10):\n",
    "    idx = np.random.choice(range(len((scene.contents))))\n",
    "    direction = np.random.choice(directions.keys())\n",
    "    query(scene.contents, idx, direction, speak=True)\n",
    "    print"
   ]
  },
  {
   "cell_type": "code",
   "execution_count": null,
   "metadata": {
    "collapsed": true
   },
   "outputs": [],
   "source": []
  },
  {
   "cell_type": "code",
   "execution_count": null,
   "metadata": {
    "collapsed": true
   },
   "outputs": [],
   "source": []
  },
  {
   "cell_type": "code",
   "execution_count": null,
   "metadata": {
    "collapsed": true
   },
   "outputs": [],
   "source": []
  },
  {
   "cell_type": "code",
   "execution_count": null,
   "metadata": {
    "collapsed": true
   },
   "outputs": [],
   "source": []
  },
  {
   "cell_type": "code",
   "execution_count": null,
   "metadata": {
    "collapsed": true
   },
   "outputs": [],
   "source": []
  },
  {
   "cell_type": "code",
   "execution_count": null,
   "metadata": {
    "collapsed": true
   },
   "outputs": [],
   "source": []
  }
 ],
 "metadata": {
  "kernelspec": {
   "display_name": "Python 2",
   "language": "python",
   "name": "python2"
  },
  "language_info": {
   "codemirror_mode": {
    "name": "ipython",
    "version": 2
   },
   "file_extension": ".py",
   "mimetype": "text/x-python",
   "name": "python",
   "nbconvert_exporter": "python",
   "pygments_lexer": "ipython2",
   "version": "2.7.13"
  }
 },
 "nbformat": 4,
 "nbformat_minor": 2
}
