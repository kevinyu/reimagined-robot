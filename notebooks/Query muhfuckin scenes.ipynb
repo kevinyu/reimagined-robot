{
 "cells": [
  {
   "cell_type": "code",
   "execution_count": 31,
   "metadata": {
    "collapsed": false
   },
   "outputs": [
    {
     "name": "stdout",
     "output_type": "stream",
     "text": [
      "The autoreload extension is already loaded. To reload it, use:\n",
      "  %reload_ext autoreload\n"
     ]
    }
   ],
   "source": [
    "import matplotlib.pyplot as plt\n",
    "import numpy as np\n",
    "\n",
    "import config\n",
    "from tasks.mnist.generate_scenes import generate_scene\n",
    "from tasks.mnist.query_scene import directions, query\n",
    "\n",
    "%load_ext autoreload\n",
    "%autoreload 2"
   ]
  },
  {
   "cell_type": "code",
   "execution_count": 32,
   "metadata": {
    "collapsed": false
   },
   "outputs": [],
   "source": [
    "scene = generate_scene((200, 200))\n",
    "if config.NOISE_FRAGMENTS:\n",
    "    scene.add_fragment_noise(config.NOISE_FRAGMENTS, config.MAX_NOISE_SIZE)"
   ]
  },
  {
   "cell_type": "code",
   "execution_count": 35,
   "metadata": {
    "collapsed": false
   },
   "outputs": [
    {
     "data": {
      "image/png": "[encoded data removed]",
      "text/plain": [
       "<matplotlib.figure.Figure at 0x115af9b10>"
      ]
     },
     "metadata": {},
     "output_type": "display_data"
    },
    {
     "name": "stdout",
     "output_type": "stream",
     "text": [
      "whats above-left a yellow 4\n",
      "its a red 6\n",
      "\n",
      "whats right a yellow 7\n",
      "its a red 6\n",
      "\n",
      "whats left a green 2\n",
      "its a yellow 4\n",
      "\n",
      "whats above-right a green 2\n",
      "nothing\n",
      "\n",
      "whats left a yellow 9\n",
      "its a yellow 7\n",
      "\n",
      "whats below-right a blue 9\n",
      "nothing\n",
      "\n",
      "whats below a red 6\n",
      "its a yellow 7\n",
      "\n",
      "whats left a green 6\n",
      "nothing\n",
      "\n",
      "whats above-right a green 2\n",
      "its a blue 9\n",
      "\n",
      "whats below-right a yellow 7\n",
      "its a yellow 9\n",
      "\n"
     ]
    }
   ],
   "source": [
    "plt.figure(figsize=(8, 8))\n",
    "plt.imshow(scene.img)\n",
    "plt.show()\n",
    "for _ in range(10):\n",
    "    idx = np.random.choice(range(len((scene.contents))))\n",
    "    direction = np.random.choice(directions.keys())\n",
    "    query(scene.contents, idx, direction, speak=True)\n",
    "    print"
   ]
  },
  {
   "cell_type": "code",
   "execution_count": 49,
   "metadata": {
    "collapsed": false
   },
   "outputs": [],
   "source": [
    "from tasks.mnist.query_scene import generate_queries"
   ]
  },
  {
   "cell_type": "code",
   "execution_count": 83,
   "metadata": {
    "collapsed": false
   },
   "outputs": [],
   "source": [
    "labels = generate_queries(scene, 4)"
   ]
  },
  {
   "cell_type": "code",
   "execution_count": 84,
   "metadata": {
    "collapsed": false
   },
   "outputs": [
    {
     "data": {
      "text/plain": [
       "((Elemwise{sub,no_inplace}.0, Elemwise{add,no_inplace}.0),\n",
       " (<TensorType(float64, matrix)>, <TensorType(float64, matrix)>),\n",
       " array([ 0.        ,  0.        ,  0.23815777,  0.        ,  0.        ,\n",
       "         0.        ,  0.46399172,  0.08400922,  0.        ,  0.21384129,  0.        ]))"
      ]
     },
     "execution_count": 84,
     "metadata": {},
     "output_type": "execute_result"
    }
   ],
   "source": [
    "labels[0]"
   ]
  },
  {
   "cell_type": "code",
   "execution_count": 85,
   "metadata": {
    "collapsed": true
   },
   "outputs": [],
   "source": [
    "# bind with teh first, dot witht eh second, cross entropy with the third"
   ]
  },
  {
   "cell_type": "code",
   "execution_count": null,
   "metadata": {
    "collapsed": true
   },
   "outputs": [],
   "source": []
  }
 ],
 "metadata": {
  "kernelspec": {
   "display_name": "Python 2",
   "language": "python",
   "name": "python2"
  },
  "language_info": {
   "codemirror_mode": {
    "name": "ipython",
    "version": 2
   },
   "file_extension": ".py",
   "mimetype": "text/x-python",
   "name": "python",
   "nbconvert_exporter": "python",
   "pygments_lexer": "ipython2",
   "version": "2.7.13"
  }
 },
 "nbformat": 4,
 "nbformat_minor": 2
}
